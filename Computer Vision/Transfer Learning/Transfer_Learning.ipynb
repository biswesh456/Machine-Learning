{
  "nbformat": 4,
  "nbformat_minor": 0,
  "metadata": {
    "colab": {
      "name": "Transfer_Learning.ipynb",
      "version": "0.3.2",
      "provenance": [],
      "collapsed_sections": []
    },
    "kernelspec": {
      "name": "python3",
      "display_name": "Python 3"
    }
  },
  "cells": [
    {
      "cell_type": "code",
      "metadata": {
        "id": "8lhY0Q1xrVOP",
        "colab_type": "code",
        "colab": {
          "base_uri": "https://localhost:8080/",
          "height": 51
        },
        "outputId": "1e1c6e08-d65a-4d92-8549-6fc3ad63877a"
      },
      "source": [
        "!pip3 install torch"
      ],
      "execution_count": 1,
      "outputs": [
        {
          "output_type": "stream",
          "text": [
            "Requirement already satisfied: torch in /usr/local/lib/python3.6/dist-packages (1.1.0)\n",
            "Requirement already satisfied: numpy in /usr/local/lib/python3.6/dist-packages (from torch) (1.16.4)\n"
          ],
          "name": "stdout"
        }
      ]
    },
    {
      "cell_type": "code",
      "metadata": {
        "id": "RZcAJRhwrZwa",
        "colab_type": "code",
        "colab": {}
      },
      "source": [
        "import torch\n",
        "import numpy as np\n",
        "import torch.nn as nn\n",
        "import torch.nn.functional as F\n",
        "from torchvision import datasets, transforms, models\n",
        "import matplotlib.pyplot as plt"
      ],
      "execution_count": 0,
      "outputs": []
    },
    {
      "cell_type": "code",
      "metadata": {
        "id": "HdWPSPFarhM9",
        "colab_type": "code",
        "colab": {}
      },
      "source": [
        "device = torch.device(\"cuda:0\" if torch.cuda.is_available() else \"cpu\")"
      ],
      "execution_count": 0,
      "outputs": []
    },
    {
      "cell_type": "code",
      "metadata": {
        "id": "9erCk9x2rllV",
        "colab_type": "code",
        "colab": {
          "base_uri": "https://localhost:8080/",
          "height": 34
        },
        "outputId": "4fe2e8e0-b590-4f71-daee-498f8dea9e86"
      },
      "source": [
        "torch.manual_seed(1)"
      ],
      "execution_count": 4,
      "outputs": [
        {
          "output_type": "execute_result",
          "data": {
            "text/plain": [
              "<torch._C.Generator at 0x7f745908f730>"
            ]
          },
          "metadata": {
            "tags": []
          },
          "execution_count": 4
        }
      ]
    },
    {
      "cell_type": "code",
      "metadata": {
        "id": "91SWlJ48rrlj",
        "colab_type": "code",
        "colab": {
          "base_uri": "https://localhost:8080/",
          "height": 34
        },
        "outputId": "9641bbe4-cf61-4f73-9458-8c165f2cbe1e"
      },
      "source": [
        "!git clone https://github.com/jaddoescad/ants_and_bees.git"
      ],
      "execution_count": 5,
      "outputs": [
        {
          "output_type": "stream",
          "text": [
            "fatal: destination path 'ants_and_bees' already exists and is not an empty directory.\n"
          ],
          "name": "stdout"
        }
      ]
    },
    {
      "cell_type": "code",
      "metadata": {
        "id": "j9taOxEjsIf4",
        "colab_type": "code",
        "colab": {
          "base_uri": "https://localhost:8080/",
          "height": 1071
        },
        "outputId": "e0768793-9ba8-4da1-9e40-c00ab72ce94a"
      },
      "source": [
        "!ls ants_and_bees/train/ants"
      ],
      "execution_count": 6,
      "outputs": [
        {
          "output_type": "stream",
          "text": [
            " 0013035.jpg\t\t     408393566_b5b694119b.jpg\n",
            " 1030023514_aad5c608f9.jpg   424119020_6d57481dab.jpg\n",
            " 1095476100_3906d8afde.jpg   424873399_47658a91fb.jpg\n",
            " 1099452230_d1949d3250.jpg   450057712_771b3bfc91.jpg\n",
            " 116570827_e9c126745d.jpg    45472593_bfd624f8dc.jpg\n",
            " 1225872729_6f0856588f.jpg   459694881_ac657d3187.jpg\n",
            " 1262877379_64fcada201.jpg   460372577_f2f6a8c9fc.jpg\n",
            " 1269756697_0bce92cdab.jpg   460874319_0a45ab4d05.jpg\n",
            " 1286984635_5119e80de1.jpg   466430434_4000737de9.jpg\n",
            " 132478121_2a430adea2.jpg    470127037_513711fd21.jpg\n",
            " 1360291657_dc248c5eea.jpg   474806473_ca6caab245.jpg\n",
            " 1368913450_e146e2fb6d.jpg   475961153_b8c13fd405.jpg\n",
            " 1473187633_63ccaacea6.jpg   484293231_e53cfc0c89.jpg\n",
            " 148715752_302c84f5a4.jpg    49375974_e28ba6f17e.jpg\n",
            " 1489674356_09d48dde0a.jpg   506249802_207cd979b4.jpg\n",
            " 149244013_c529578289.jpg    506249836_717b73f540.jpg\n",
            " 150801003_3390b73135.jpg    512164029_c0a66b8498.jpg\n",
            " 150801171_cd86f17ed8.jpg    512863248_43c8ce579b.jpg\n",
            " 154124431_65460430f2.jpg    518773929_734dbc5ff4.jpg\n",
            " 162603798_40b51f1654.jpg    522163566_fec115ca66.jpg\n",
            " 1660097129_384bf54490.jpg   522415432_2218f34bf8.jpg\n",
            " 167890289_dd5ba923f3.jpg    531979952_bde12b3bc0.jpg\n",
            " 1693954099_46d4c20605.jpg   533848102_70a85ad6dd.jpg\n",
            " 175998972.jpg\t\t     535522953_308353a07c.jpg\n",
            " 178538489_bec7649292.jpg    540889389_48bb588b21.jpg\n",
            " 1804095607_0341701e1c.jpg   541630764_dbd285d63c.jpg\n",
            " 1808777855_2a895621d7.jpg   543417860_b14237f569.jpg\n",
            " 188552436_605cc9b36b.jpg    560966032_988f4d7bc4.jpg\n",
            " 1917341202_d00a7f9af5.jpg   5650366_e22b7e1065.jpg\n",
            " 1924473702_daa9aacdbe.jpg   6240329_72c01e663e.jpg\n",
            " 196057951_63bf063b92.jpg    6240338_93729615ec.jpg\n",
            " 196757565_326437f5fe.jpg    649026570_e58656104b.jpg\n",
            " 201558278_fe4caecc76.jpg    662541407_ff8db781e7.jpg\n",
            " 201790779_527f4c0168.jpg    67270775_e9fdf77e9d.jpg\n",
            " 2019439677_2db655d361.jpg   6743948_2b8c096dda.jpg\n",
            " 207947948_3ab29d7207.jpg    684133190_35b62c0c1d.jpg\n",
            " 20935278_9190345f6b.jpg     69639610_95e0de17aa.jpg\n",
            " 224655713_3956f7d39a.jpg    707895295_009cf23188.jpg\n",
            " 2265824718_2c96f485da.jpg   7759525_1363d24e88.jpg\n",
            " 2265825502_fff99cfd2d.jpg   795000156_a9900a4a71.jpg\n",
            " 226951206_d6bf946504.jpg    822537660_caf4ba5514.jpg\n",
            " 2278278459_6b99605e50.jpg   82852639_52b7f7f5e3.jpg\n",
            " 2288450226_a6e96e8fdf.jpg   841049277_b28e58ad05.jpg\n",
            " 2288481644_83ff7e4572.jpg   886401651_f878e888cd.jpg\n",
            " 2292213964_ca51ce4bef.jpg   892108839_f1aad4ca46.jpg\n",
            " 24335309_c5ea483bb8.jpg     938946700_ca1c669085.jpg\n",
            " 245647475_9523dfd13e.jpg    957233405_25c1d1187b.jpg\n",
            " 255434217_1b2b3fe0a4.jpg    9715481_b3cb4114ff.jpg\n",
            " 258217966_d9d90d18d3.jpg    998118368_6ac1d91f81.jpg\n",
            " 275429470_b2d7d9290b.jpg    Ant_1.jpg\n",
            " 28847243_e79fe052cd.jpg    'ant photos.jpg'\n",
            " 318052216_84dff3f98a.jpg    army-ants-red-picture.jpg\n",
            " 334167043_cbd1adaeb9.jpg    formica.jpeg\n",
            " 339670531_94b75ae47a.jpg    hormiga_co_por.jpg\n",
            " 342438950_a3da61deab.jpg    imageNotFound.gif\n",
            " 36439863_0bec9f554f.jpg     kurokusa.jpg\n",
            " 374435068_7eee412ec4.jpg    MehdiabadiAnt2_600.jpg\n",
            " 382971067_0bfd33afe0.jpg    Nepenthes_rafflesiana_ant.jpg\n",
            " 384191229_5779cf591b.jpg    swiss-army-ant.jpg\n",
            " 386190770_672743c9a7.jpg    termite-vs-ant.jpg\n",
            " 392382602_1b7bed32fa.jpg    trap-jaw-ant-insect-bg.jpg\n",
            " 403746349_71384f5b58.jpg    VietnameseAntMimicSpider.jpg\n"
          ],
          "name": "stdout"
        }
      ]
    },
    {
      "cell_type": "code",
      "metadata": {
        "id": "pcBbF9Ygr4kn",
        "colab_type": "code",
        "colab": {}
      },
      "source": [
        "transform_train = transforms.Compose([transforms.Resize((224, 224)),\n",
        "                                      transforms.RandomHorizontalFlip(),\n",
        "                                      transforms.RandomAffine(0, shear=10, scale=(0.8, 1.2)),\n",
        "                                      transforms.ColorJitter(brightness=0.2, contrast=0.2, saturation=0.2),\n",
        "                                      transforms.RandomRotation(10),\n",
        "                                      transforms.ToTensor(),\n",
        "                                      transforms.Normalize([0.5], [0.5])\n",
        "                                     ])\n",
        "\n",
        "transform_validation = transforms.Compose([transforms.Resize((224, 224)),\n",
        "                                           transforms.ToTensor(),\n",
        "                                           transforms.Normalize([0.5], [0.5])\n",
        "                                          ])\n",
        "\n",
        "training_dataset = datasets.ImageFolder(root='ants_and_bees/train', transform=transform_train)\n",
        "training_loader = torch.utils.data.DataLoader(dataset=training_dataset, batch_size=100, shuffle=True) \n",
        "validation_dataset = datasets.ImageFolder(root='ants_and_bees/val', transform=transform_validation)\n",
        "validation_loader = torch.utils.data.DataLoader(dataset=validation_dataset, batch_size=100, shuffle=False) "
      ],
      "execution_count": 0,
      "outputs": []
    },
    {
      "cell_type": "code",
      "metadata": {
        "id": "K_jOCDaxwi-u",
        "colab_type": "code",
        "colab": {
          "base_uri": "https://localhost:8080/",
          "height": 476
        },
        "outputId": "639d1ce4-0063-475d-cf5b-b6fa0214c5bd"
      },
      "source": [
        "model = models.alexnet(pretrained=True)\n",
        "model"
      ],
      "execution_count": 8,
      "outputs": [
        {
          "output_type": "execute_result",
          "data": {
            "text/plain": [
              "AlexNet(\n",
              "  (features): Sequential(\n",
              "    (0): Conv2d(3, 64, kernel_size=(11, 11), stride=(4, 4), padding=(2, 2))\n",
              "    (1): ReLU(inplace)\n",
              "    (2): MaxPool2d(kernel_size=3, stride=2, padding=0, dilation=1, ceil_mode=False)\n",
              "    (3): Conv2d(64, 192, kernel_size=(5, 5), stride=(1, 1), padding=(2, 2))\n",
              "    (4): ReLU(inplace)\n",
              "    (5): MaxPool2d(kernel_size=3, stride=2, padding=0, dilation=1, ceil_mode=False)\n",
              "    (6): Conv2d(192, 384, kernel_size=(3, 3), stride=(1, 1), padding=(1, 1))\n",
              "    (7): ReLU(inplace)\n",
              "    (8): Conv2d(384, 256, kernel_size=(3, 3), stride=(1, 1), padding=(1, 1))\n",
              "    (9): ReLU(inplace)\n",
              "    (10): Conv2d(256, 256, kernel_size=(3, 3), stride=(1, 1), padding=(1, 1))\n",
              "    (11): ReLU(inplace)\n",
              "    (12): MaxPool2d(kernel_size=3, stride=2, padding=0, dilation=1, ceil_mode=False)\n",
              "  )\n",
              "  (avgpool): AdaptiveAvgPool2d(output_size=(6, 6))\n",
              "  (classifier): Sequential(\n",
              "    (0): Dropout(p=0.5)\n",
              "    (1): Linear(in_features=9216, out_features=4096, bias=True)\n",
              "    (2): ReLU(inplace)\n",
              "    (3): Dropout(p=0.5)\n",
              "    (4): Linear(in_features=4096, out_features=4096, bias=True)\n",
              "    (5): ReLU(inplace)\n",
              "    (6): Linear(in_features=4096, out_features=1000, bias=True)\n",
              "  )\n",
              ")"
            ]
          },
          "metadata": {
            "tags": []
          },
          "execution_count": 8
        }
      ]
    },
    {
      "cell_type": "code",
      "metadata": {
        "id": "W2l3YE5hwsv0",
        "colab_type": "code",
        "colab": {}
      },
      "source": [
        "for params in model.features.parameters():\n",
        "  params.requires_grad = False"
      ],
      "execution_count": 0,
      "outputs": []
    },
    {
      "cell_type": "code",
      "metadata": {
        "id": "pPozO10Vz-Jg",
        "colab_type": "code",
        "colab": {
          "base_uri": "https://localhost:8080/",
          "height": 476
        },
        "outputId": "50dc4270-27b0-4267-fc64-c3b7101c2e8f"
      },
      "source": [
        "n_inputs = model.classifier[6].in_features\n",
        "last_layer = nn.Linear(n_inputs, 2)\n",
        "model.classifier[6] = last_layer\n",
        "model"
      ],
      "execution_count": 10,
      "outputs": [
        {
          "output_type": "execute_result",
          "data": {
            "text/plain": [
              "AlexNet(\n",
              "  (features): Sequential(\n",
              "    (0): Conv2d(3, 64, kernel_size=(11, 11), stride=(4, 4), padding=(2, 2))\n",
              "    (1): ReLU(inplace)\n",
              "    (2): MaxPool2d(kernel_size=3, stride=2, padding=0, dilation=1, ceil_mode=False)\n",
              "    (3): Conv2d(64, 192, kernel_size=(5, 5), stride=(1, 1), padding=(2, 2))\n",
              "    (4): ReLU(inplace)\n",
              "    (5): MaxPool2d(kernel_size=3, stride=2, padding=0, dilation=1, ceil_mode=False)\n",
              "    (6): Conv2d(192, 384, kernel_size=(3, 3), stride=(1, 1), padding=(1, 1))\n",
              "    (7): ReLU(inplace)\n",
              "    (8): Conv2d(384, 256, kernel_size=(3, 3), stride=(1, 1), padding=(1, 1))\n",
              "    (9): ReLU(inplace)\n",
              "    (10): Conv2d(256, 256, kernel_size=(3, 3), stride=(1, 1), padding=(1, 1))\n",
              "    (11): ReLU(inplace)\n",
              "    (12): MaxPool2d(kernel_size=3, stride=2, padding=0, dilation=1, ceil_mode=False)\n",
              "  )\n",
              "  (avgpool): AdaptiveAvgPool2d(output_size=(6, 6))\n",
              "  (classifier): Sequential(\n",
              "    (0): Dropout(p=0.5)\n",
              "    (1): Linear(in_features=9216, out_features=4096, bias=True)\n",
              "    (2): ReLU(inplace)\n",
              "    (3): Dropout(p=0.5)\n",
              "    (4): Linear(in_features=4096, out_features=4096, bias=True)\n",
              "    (5): ReLU(inplace)\n",
              "    (6): Linear(in_features=4096, out_features=2, bias=True)\n",
              "  )\n",
              ")"
            ]
          },
          "metadata": {
            "tags": []
          },
          "execution_count": 10
        }
      ]
    },
    {
      "cell_type": "code",
      "metadata": {
        "id": "5WXkZnEx0jEd",
        "colab_type": "code",
        "colab": {
          "base_uri": "https://localhost:8080/",
          "height": 476
        },
        "outputId": "6474b648-08a2-41fc-cd5e-4a5c332b898d"
      },
      "source": [
        "model.to(device)"
      ],
      "execution_count": 11,
      "outputs": [
        {
          "output_type": "execute_result",
          "data": {
            "text/plain": [
              "AlexNet(\n",
              "  (features): Sequential(\n",
              "    (0): Conv2d(3, 64, kernel_size=(11, 11), stride=(4, 4), padding=(2, 2))\n",
              "    (1): ReLU(inplace)\n",
              "    (2): MaxPool2d(kernel_size=3, stride=2, padding=0, dilation=1, ceil_mode=False)\n",
              "    (3): Conv2d(64, 192, kernel_size=(5, 5), stride=(1, 1), padding=(2, 2))\n",
              "    (4): ReLU(inplace)\n",
              "    (5): MaxPool2d(kernel_size=3, stride=2, padding=0, dilation=1, ceil_mode=False)\n",
              "    (6): Conv2d(192, 384, kernel_size=(3, 3), stride=(1, 1), padding=(1, 1))\n",
              "    (7): ReLU(inplace)\n",
              "    (8): Conv2d(384, 256, kernel_size=(3, 3), stride=(1, 1), padding=(1, 1))\n",
              "    (9): ReLU(inplace)\n",
              "    (10): Conv2d(256, 256, kernel_size=(3, 3), stride=(1, 1), padding=(1, 1))\n",
              "    (11): ReLU(inplace)\n",
              "    (12): MaxPool2d(kernel_size=3, stride=2, padding=0, dilation=1, ceil_mode=False)\n",
              "  )\n",
              "  (avgpool): AdaptiveAvgPool2d(output_size=(6, 6))\n",
              "  (classifier): Sequential(\n",
              "    (0): Dropout(p=0.5)\n",
              "    (1): Linear(in_features=9216, out_features=4096, bias=True)\n",
              "    (2): ReLU(inplace)\n",
              "    (3): Dropout(p=0.5)\n",
              "    (4): Linear(in_features=4096, out_features=4096, bias=True)\n",
              "    (5): ReLU(inplace)\n",
              "    (6): Linear(in_features=4096, out_features=2, bias=True)\n",
              "  )\n",
              ")"
            ]
          },
          "metadata": {
            "tags": []
          },
          "execution_count": 11
        }
      ]
    },
    {
      "cell_type": "code",
      "metadata": {
        "id": "03ry5fLpw0EF",
        "colab_type": "code",
        "colab": {}
      },
      "source": [
        "criterion = nn.CrossEntropyLoss()\n",
        "optimizer = torch.optim.Adam(model.parameters(), lr=0.0001)"
      ],
      "execution_count": 0,
      "outputs": []
    },
    {
      "cell_type": "code",
      "metadata": {
        "id": "an68eDOHw2vp",
        "colab_type": "code",
        "colab": {
          "base_uri": "https://localhost:8080/",
          "height": 272
        },
        "outputId": "aef9883d-317f-4031-e302-a44c30988333"
      },
      "source": [
        "epochs = 10\n",
        "history=[]\n",
        "val_history=[]\n",
        "for e in range(epochs):\n",
        "  current_loss = 0.0\n",
        "  running_correct = 0.0\n",
        "  validation_loss = 0.0\n",
        "  validation_acc = 0.0\n",
        "  for inputs, labels in training_loader:\n",
        "    inputs = inputs.to(device)\n",
        "    labels = labels.to(device)\n",
        "    \n",
        "#     inputs = inputs.view(inputs.shape[0], -1)   this is required is passing 1 dimensional input\n",
        "    outputs = model(inputs)\n",
        "    loss = criterion(outputs, labels)\n",
        "    \n",
        "    optimizer.zero_grad()\n",
        "    loss.backward()\n",
        "    optimizer.step()\n",
        "    \n",
        "    _, preds = torch.max(outputs, 1)\n",
        "    \n",
        "    current_loss += loss.item()\n",
        "    running_correct += torch.sum(preds == labels.data)\n",
        "\n",
        "  else:\n",
        "    with torch.no_grad():\n",
        "      for val_inputs, val_labels in validation_loader:\n",
        "        val_inputs = val_inputs.to(device)\n",
        "        val_labels = val_labels.to(device)\n",
        "        \n",
        "#         val_inputs = val_inputs.view(val_inputs.shape[0], -1)\n",
        "        val_output = model(val_inputs)\n",
        "        val_loss = criterion(val_output, val_labels)\n",
        "        \n",
        "        _, val_preds = torch.max(val_output, 1)\n",
        "        validation_loss += val_loss.item()\n",
        "        validation_acc += torch.sum(val_preds == val_labels.data)\n",
        "           \n",
        "      epoch_loss = current_loss/(len(training_loader.dataset))\n",
        "      epoch_acc = running_correct.float()/len(training_loader.dataset)\n",
        "      validation_loss = validation_loss/(len(validation_loader.dataset))\n",
        "      validation_acc = validation_acc.float()/len(validation_loader.dataset)\n",
        "      history.append(epoch_loss)\n",
        "      val_history.append(validation_loss)\n",
        "      print('training loss: {:.4f}, training accuracy: {:.4f}, validation loss: {:.4f}, validation accuracy: {:.4f}'.format(epoch_loss, epoch_acc.item(), validation_loss, validation_acc.item()))\n",
        "    \n",
        "    "
      ],
      "execution_count": 15,
      "outputs": [
        {
          "output_type": "stream",
          "text": [
            "training loss: 0.0070, training accuracy: 0.6557, validation loss: 0.0057, validation accuracy: 0.7451\n",
            "training loss: 0.0048, training accuracy: 0.7910, validation loss: 0.0083, validation accuracy: 0.7843\n",
            "training loss: 0.0053, training accuracy: 0.8156, validation loss: 0.0042, validation accuracy: 0.8627\n",
            "training loss: 0.0032, training accuracy: 0.8934, validation loss: 0.0040, validation accuracy: 0.8693\n",
            "training loss: 0.0020, training accuracy: 0.9467, validation loss: 0.0058, validation accuracy: 0.8562\n",
            "training loss: 0.0020, training accuracy: 0.9426, validation loss: 0.0034, validation accuracy: 0.9412\n",
            "training loss: 0.0016, training accuracy: 0.9590, validation loss: 0.0037, validation accuracy: 0.9020\n",
            "training loss: 0.0010, training accuracy: 0.9672, validation loss: 0.0048, validation accuracy: 0.9216\n",
            "training loss: 0.0007, training accuracy: 0.9836, validation loss: 0.0044, validation accuracy: 0.9085\n",
            "training loss: 0.0008, training accuracy: 0.9795, validation loss: 0.0043, validation accuracy: 0.9216\n",
            "training loss: 0.0006, training accuracy: 0.9795, validation loss: 0.0052, validation accuracy: 0.9085\n",
            "training loss: 0.0005, training accuracy: 0.9918, validation loss: 0.0057, validation accuracy: 0.9085\n",
            "training loss: 0.0002, training accuracy: 1.0000, validation loss: 0.0054, validation accuracy: 0.8954\n",
            "training loss: 0.0003, training accuracy: 0.9918, validation loss: 0.0058, validation accuracy: 0.9085\n",
            "training loss: 0.0002, training accuracy: 0.9959, validation loss: 0.0072, validation accuracy: 0.9020\n"
          ],
          "name": "stdout"
        }
      ]
    },
    {
      "cell_type": "code",
      "metadata": {
        "id": "OmklIh8I0yuU",
        "colab_type": "code",
        "colab": {
          "base_uri": "https://localhost:8080/",
          "height": 286
        },
        "outputId": "70fa1429-4510-46ce-fdd0-6d3c3c584ded"
      },
      "source": [
        "plt.plot(history, label=\"training loss\")\n",
        "plt.plot(val_history, label=\"validation loss\")\n",
        "plt.legend()"
      ],
      "execution_count": 16,
      "outputs": [
        {
          "output_type": "execute_result",
          "data": {
            "text/plain": [
              "<matplotlib.legend.Legend at 0x7f7456e29198>"
            ]
          },
          "metadata": {
            "tags": []
          },
          "execution_count": 16
        },
        {
          "output_type": "display_data",
          "data": {
            "image/png": "[encoded data removed]",
            "text/plain": [
              "<Figure size 432x288 with 1 Axes>"
            ]
          },
          "metadata": {
            "tags": []
          }
        }
      ]
    },
    {
      "cell_type": "code",
      "metadata": {
        "id": "aba-TwVy11iE",
        "colab_type": "code",
        "colab": {}
      },
      "source": [
        ""
      ],
      "execution_count": 0,
      "outputs": []
    }
  ]
}