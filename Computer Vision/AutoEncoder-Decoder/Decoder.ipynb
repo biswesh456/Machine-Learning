{
 "cells": [
  {
   "cell_type": "code",
   "execution_count": 2,
   "metadata": {},
   "outputs": [
    {
     "name": "stderr",
     "output_type": "stream",
     "text": [
      "Using TensorFlow backend.\n"
     ]
    }
   ],
   "source": [
    "import tensorflow as tf\n",
    "import keras\n",
    "import numpy as np\n",
    "import pickle\n",
    "import cv2\n",
    "import matplotlib.pyplot as plt"
   ]
  },
  {
   "cell_type": "code",
   "execution_count": 3,
   "metadata": {},
   "outputs": [],
   "source": [
    "from keras.layers import Conv2D, MaxPooling2D, Activation, UpSampling2D\n",
    "from keras.datasets import mnist\n",
    "from keras.models import Sequential\n",
    "from keras import optimizers\n",
    "from keras.callbacks import TensorBoard, EarlyStopping"
   ]
  },
  {
   "cell_type": "code",
   "execution_count": 4,
   "metadata": {},
   "outputs": [],
   "source": [
    "class Parameters():\n",
    "    def __init__(self, img_shape, optimiser, batch_size=128, number_classes=10, epochs=50, data_augmentation=False):\n",
    "        self.batch_size = batch_size\n",
    "        self.number_classes = number_classes\n",
    "        self.epochs = epochs\n",
    "        self.data_augmentation = data_augmentation\n",
    "        self.img_shape = img_shape\n",
    "        self.optimiser = optimiser"
   ]
  },
  {
   "cell_type": "code",
   "execution_count": 5,
   "metadata": {},
   "outputs": [],
   "source": [
    "class Model():\n",
    "    def __init__(self, params):\n",
    "        self.params = params\n",
    "        self.decoder = Sequential()\n",
    "        \n",
    "        self.decoder.add(Conv2D(4, (3, 3), activation='relu', padding='same', input_shape=(1, 1, 100)))\n",
    "        self.decoder.add(UpSampling2D((2,2)))\n",
    "        self.decoder.add(Conv2D(8, (3, 3), activation='relu', padding='same'))\n",
    "        self.decoder.add(UpSampling2D((2,2)))\n",
    "        self.decoder.add(Conv2D(8, (3, 3), activation='relu', padding='same'))\n",
    "        self.decoder.add(UpSampling2D((2,2)))\n",
    "        self.decoder.add(Conv2D(16, (3, 3), activation='relu', padding='same'))\n",
    "        self.decoder.add(UpSampling2D((2,2)))\n",
    "        self.decoder.add(Conv2D(16, (3, 3), activation='relu'))\n",
    "        self.decoder.add(UpSampling2D((2,2)))\n",
    "        self.decoder.add(Conv2D(1, (3, 3), activation='sigmoid', padding='same'))\n",
    "        \n",
    "    def compile(self, loss=\"binary_crossentropy\", metrics=['accuracy']):\n",
    "        self.decoder.compile(loss=loss, optimizer=self.params.optimiser, metrics=metrics)\n",
    "        \n",
    "    def fit(self, x_train, y_train, validation_data, shuffle=True, callbacks=[TensorBoard(log_dir='conv_autoencoder')], verbose=2):\n",
    "        self.decoder.fit(x_train, y_train, epochs=self.params.epochs, batch_size=self.params.batch_size, \n",
    "                       shuffle=shuffle, validation_data=validation_data, callbacks=callbacks, verbose=verbose)"
   ]
  },
  {
   "cell_type": "code",
   "execution_count": 6,
   "metadata": {},
   "outputs": [],
   "source": [
    "(x_train, y_train), (x_test, y_test) = mnist.load_data()"
   ]
  },
  {
   "cell_type": "code",
   "execution_count": 7,
   "metadata": {},
   "outputs": [],
   "source": [
    "x_train = x_train.astype('float32') / 255.\n",
    "x_test = x_test.astype('float32') / 255.\n",
    "x_train = np.reshape(x_train, (len(x_train), 28, 28, 1))    # adapt this if using 'channels_first' image data format\n",
    "x_test = np.reshape(x_test, (len(x_test), 28, 28, 1))"
   ]
  },
  {
   "cell_type": "code",
   "execution_count": 8,
   "metadata": {},
   "outputs": [
    {
     "name": "stdout",
     "output_type": "stream",
     "text": [
      "WARNING:tensorflow:From /anaconda3/lib/python3.6/site-packages/tensorflow/python/framework/op_def_library.py:263: colocate_with (from tensorflow.python.framework.ops) is deprecated and will be removed in a future version.\n",
      "Instructions for updating:\n",
      "Colocations handled automatically by placer.\n"
     ]
    }
   ],
   "source": [
    "params = Parameters(img_shape=x_train.shape[1:], epochs=30,\n",
    "                    optimiser=keras.optimizers.Adadelta(lr=0.5, rho=0.95, epsilon=None, decay=0.0))\n",
    "es = EarlyStopping(monitor='val_loss')\n",
    "m = Model(params)\n",
    "m.compile()"
   ]
  },
  {
   "cell_type": "code",
   "execution_count": 36,
   "metadata": {},
   "outputs": [],
   "source": [
    "train_noise=[]\n",
    "for i in range(x_train.shape[0]):\n",
    "        train_noise.append(np.random.uniform(y_train[i]*100, (y_train[i]+1)*100, (1, 1, 100)))\n",
    "        \n",
    "train_noise = np.array(train_noise)\n",
    "\n",
    "test_noise=[]\n",
    "for i in range(x_test.shape[0]):\n",
    "        test_noise.append(np.random.uniform(y_test[i]*100, (y_test[i]+1)*100, (1, 1, 100)))\n",
    "        \n",
    "test_noise = np.array(test_noise)\n"
   ]
  },
  {
   "cell_type": "code",
   "execution_count": 38,
   "metadata": {
    "scrolled": true
   },
   "outputs": [
    {
     "name": "stdout",
     "output_type": "stream",
     "text": [
      "Train on 60000 samples, validate on 10000 samples\n",
      "Epoch 1/30\n",
      "60000/60000 [==============================] - 34s 575us/step - loss: 0.2745 - acc: 0.8027 - val_loss: 0.2659 - val_acc: 0.8015\n",
      "Epoch 2/30\n",
      "60000/60000 [==============================] - 32s 537us/step - loss: 0.2622 - acc: 0.8027 - val_loss: 0.2582 - val_acc: 0.8008\n",
      "Epoch 3/30\n",
      "60000/60000 [==============================] - 30s 502us/step - loss: 0.2578 - acc: 0.8017 - val_loss: 0.2541 - val_acc: 0.7982\n",
      "Epoch 4/30\n",
      "60000/60000 [==============================] - 34s 569us/step - loss: 0.2523 - acc: 0.7999 - val_loss: 0.2487 - val_acc: 0.8011\n",
      "Epoch 5/30\n",
      "60000/60000 [==============================] - 36s 601us/step - loss: 0.2487 - acc: 0.7981 - val_loss: 0.2448 - val_acc: 0.7966\n",
      "Epoch 6/30\n",
      "60000/60000 [==============================] - 35s 588us/step - loss: 0.2467 - acc: 0.7972 - val_loss: 0.2439 - val_acc: 0.7979\n",
      "Epoch 7/30\n",
      "60000/60000 [==============================] - 42s 697us/step - loss: 0.2456 - acc: 0.7973 - val_loss: 0.2433 - val_acc: 0.7940\n",
      "Epoch 8/30\n",
      "60000/60000 [==============================] - 42s 698us/step - loss: 0.2446 - acc: 0.7975 - val_loss: 0.2423 - val_acc: 0.7945\n",
      "Epoch 9/30\n",
      "60000/60000 [==============================] - 51s 855us/step - loss: 0.2437 - acc: 0.7976 - val_loss: 0.2412 - val_acc: 0.7967\n",
      "Epoch 10/30\n",
      "60000/60000 [==============================] - 52s 866us/step - loss: 0.2431 - acc: 0.7977 - val_loss: 0.2429 - val_acc: 0.7967\n",
      "Epoch 11/30\n",
      "60000/60000 [==============================] - 43s 723us/step - loss: 0.2427 - acc: 0.7976 - val_loss: 0.2419 - val_acc: 0.7992\n",
      "Epoch 12/30\n",
      "60000/60000 [==============================] - 38s 626us/step - loss: 0.2424 - acc: 0.7976 - val_loss: 0.2399 - val_acc: 0.7988\n",
      "Epoch 13/30\n",
      "60000/60000 [==============================] - 36s 602us/step - loss: 0.2420 - acc: 0.7974 - val_loss: 0.2420 - val_acc: 0.7997\n",
      "Epoch 14/30\n",
      "60000/60000 [==============================] - 32s 533us/step - loss: 0.2416 - acc: 0.7974 - val_loss: 0.2424 - val_acc: 0.7977\n",
      "Epoch 15/30\n",
      "60000/60000 [==============================] - 29s 477us/step - loss: 0.2415 - acc: 0.7974 - val_loss: 0.2444 - val_acc: 0.7908\n",
      "Epoch 16/30\n",
      "60000/60000 [==============================] - 31s 510us/step - loss: 0.2411 - acc: 0.7973 - val_loss: 0.2387 - val_acc: 0.7959\n",
      "Epoch 17/30\n",
      "60000/60000 [==============================] - 30s 499us/step - loss: 0.2408 - acc: 0.7971 - val_loss: 0.2401 - val_acc: 0.7948\n",
      "Epoch 18/30\n",
      "60000/60000 [==============================] - 31s 518us/step - loss: 0.2406 - acc: 0.7971 - val_loss: 0.2486 - val_acc: 0.7869\n",
      "Epoch 19/30\n",
      "60000/60000 [==============================] - 33s 552us/step - loss: 0.2404 - acc: 0.7969 - val_loss: 0.2476 - val_acc: 0.7899\n",
      "Epoch 20/30\n",
      "60000/60000 [==============================] - 29s 487us/step - loss: 0.2403 - acc: 0.7968 - val_loss: 0.2380 - val_acc: 0.7969\n",
      "Epoch 21/30\n",
      "60000/60000 [==============================] - 36s 600us/step - loss: 0.2401 - acc: 0.7967 - val_loss: 0.2387 - val_acc: 0.7984\n",
      "Epoch 22/30\n",
      "60000/60000 [==============================] - 39s 645us/step - loss: 0.2399 - acc: 0.7965 - val_loss: 0.2390 - val_acc: 0.7969\n",
      "Epoch 23/30\n",
      "60000/60000 [==============================] - 42s 704us/step - loss: 0.2396 - acc: 0.7964 - val_loss: 0.2388 - val_acc: 0.7944\n",
      "Epoch 24/30\n",
      "60000/60000 [==============================] - 42s 707us/step - loss: 0.2396 - acc: 0.7962 - val_loss: 0.2383 - val_acc: 0.7997\n",
      "Epoch 25/30\n",
      "60000/60000 [==============================] - 39s 655us/step - loss: 0.2394 - acc: 0.7961 - val_loss: 0.2372 - val_acc: 0.7944\n",
      "Epoch 26/30\n",
      "60000/60000 [==============================] - 35s 578us/step - loss: 0.2393 - acc: 0.7959 - val_loss: 0.2368 - val_acc: 0.7984\n",
      "Epoch 27/30\n",
      "60000/60000 [==============================] - 38s 634us/step - loss: 0.2393 - acc: 0.7958 - val_loss: 0.2404 - val_acc: 0.7939\n",
      "Epoch 28/30\n",
      "60000/60000 [==============================] - 47s 775us/step - loss: 0.2391 - acc: 0.7958 - val_loss: 0.2364 - val_acc: 0.7950\n",
      "Epoch 29/30\n",
      "60000/60000 [==============================] - 35s 588us/step - loss: 0.2391 - acc: 0.7956 - val_loss: 0.2368 - val_acc: 0.7961\n",
      "Epoch 30/30\n",
      "60000/60000 [==============================] - 35s 583us/step - loss: 0.2387 - acc: 0.7956 - val_loss: 0.2381 - val_acc: 0.7914\n"
     ]
    }
   ],
   "source": [
    "m.fit(train_noise, x_train, (test_noise, x_test), verbose=1, \n",
    "      callbacks=[EarlyStopping(monitor='val_loss', mode='min', verbose=1, patience=5)])"
   ]
  },
  {
   "cell_type": "code",
   "execution_count": 39,
   "metadata": {
    "scrolled": true
   },
   "outputs": [
    {
     "data": {
      "image/png": "[encoded data removed]",
      "text/plain": [
       "<Figure size 1000x400 with 20 Axes>"
      ]
     },
     "metadata": {},
     "output_type": "display_data"
    }
   ],
   "source": [
    "n = 10\n",
    "decoded_imgs = m.decoder.predict(test_noise)\n",
    "plt.figure(figsize=(10, 4), dpi=100)\n",
    "for i in range(n):\n",
    "    # display original\n",
    "    ax = plt.subplot(2, n, i + 1)\n",
    "    plt.imshow(x_test[i].reshape(28, 28))\n",
    "    plt.gray()\n",
    "    ax.set_axis_off()\n",
    "\n",
    "    # display reconstruction\n",
    "    ax = plt.subplot(2, n, i + n + 1)\n",
    "    plt.imshow(decoded_imgs[i].reshape(28, 28))\n",
    "    plt.gray()\n",
    "    ax.set_axis_off()\n",
    "\n",
    "plt.show()"
   ]
  }
 ],
 "metadata": {
  "kernelspec": {
   "display_name": "Python 3",
   "language": "python",
   "name": "python3"
  },
  "language_info": {
   "codemirror_mode": {
    "name": "ipython",
    "version": 3
   },
   "file_extension": ".py",
   "mimetype": "text/x-python",
   "name": "python",
   "nbconvert_exporter": "python",
   "pygments_lexer": "ipython3",
   "version": "3.6.8"
  }
 },
 "nbformat": 4,
 "nbformat_minor": 2
}
