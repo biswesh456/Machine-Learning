{
  "nbformat": 4,
  "nbformat_minor": 0,
  "metadata": {
    "colab": {
      "name": "Lenet_Implementation.ipynb",
      "version": "0.3.2",
      "provenance": [],
      "collapsed_sections": []
    },
    "kernelspec": {
      "name": "python3",
      "display_name": "Python 3"
    },
    "accelerator": "GPU"
  },
  "cells": [
    {
      "cell_type": "code",
      "metadata": {
        "id": "CODhFjsIp0t6",
        "colab_type": "code",
        "outputId": "7f18f713-81cf-417e-b199-6962302bb420",
        "colab": {
          "base_uri": "https://localhost:8080/",
          "height": 51
        }
      },
      "source": [
        "!pip3 install torch\n"
      ],
      "execution_count": 1,
      "outputs": [
        {
          "output_type": "stream",
          "text": [
            "Requirement already satisfied: torch in /usr/local/lib/python3.6/dist-packages (1.1.0)\n",
            "Requirement already satisfied: numpy in /usr/local/lib/python3.6/dist-packages (from torch) (1.16.4)\n"
          ],
          "name": "stdout"
        }
      ]
    },
    {
      "cell_type": "code",
      "metadata": {
        "id": "cQ8Gt-Htp8mW",
        "colab_type": "code",
        "colab": {}
      },
      "source": [
        "import torch\n",
        "import numpy as np\n",
        "import torch.nn as nn\n",
        "import torch.nn.functional as F\n",
        "from torchvision import datasets, transforms\n",
        "import matplotlib.pyplot as plt"
      ],
      "execution_count": 0,
      "outputs": []
    },
    {
      "cell_type": "code",
      "metadata": {
        "id": "YhJ7C_2wHDa_",
        "colab_type": "code",
        "colab": {}
      },
      "source": [
        "device = torch.device(\"cuda:0\" if torch.cuda.is_available() else \"cpu\")"
      ],
      "execution_count": 0,
      "outputs": []
    },
    {
      "cell_type": "code",
      "metadata": {
        "id": "1CD7t2s3YsSV",
        "colab_type": "code",
        "outputId": "aedc7d41-175b-4b8f-abf9-4a7296b6c46a",
        "colab": {
          "base_uri": "https://localhost:8080/",
          "height": 34
        }
      },
      "source": [
        "torch.manual_seed(1)"
      ],
      "execution_count": 4,
      "outputs": [
        {
          "output_type": "execute_result",
          "data": {
            "text/plain": [
              "<torch._C.Generator at 0x7fef20552670>"
            ]
          },
          "metadata": {
            "tags": []
          },
          "execution_count": 4
        }
      ]
    },
    {
      "cell_type": "code",
      "metadata": {
        "id": "yF8_6aOZ5JCI",
        "colab_type": "code",
        "colab": {}
      },
      "source": [
        "transform = transforms.Compose([transforms.ToTensor(),\n",
        "                               transforms.Normalize([0.5], [0.5])\n",
        "                               ])\n",
        "training_dataset = datasets.MNIST(root='./data', train=True, download=True, transform=transform)\n",
        "training_loader = torch.utils.data.DataLoader(dataset=training_dataset, batch_size=100, shuffle=True) \n",
        "validation_dataset = datasets.MNIST(root='./data', train=False, download=True, transform=transform)\n",
        "validation_loader = torch.utils.data.DataLoader(dataset=validation_dataset, batch_size=100, shuffle=False) "
      ],
      "execution_count": 0,
      "outputs": []
    },
    {
      "cell_type": "code",
      "metadata": {
        "id": "8v2JUQX4Zm_B",
        "colab_type": "code",
        "colab": {}
      },
      "source": [
        "class LeNet(nn.Module):\n",
        "  def __init__(self):\n",
        "    super().__init__()\n",
        "    self.conv1 = nn.Conv2d(1, 20, 5, stride=1)\n",
        "    self.conv2 = nn.Conv2d(20, 50, 5, stride=1)\n",
        "    self.fc1 = nn.Linear(4*4*50, 500)\n",
        "    self.dropout1 = nn.Dropout(0.5)\n",
        "    self.fc2 = nn.Linear(500, 10)\n",
        "    \n",
        "  def forward(self, x):\n",
        "    x = F.relu(self.conv1(x))\n",
        "    x = F.max_pool2d(x, 2, 2)\n",
        "    x = F.relu(self.conv2(x))\n",
        "    x = F.max_pool2d(x, 2, 2)\n",
        "    x = x.view(-1, 4*4*50)\n",
        "    x = F.relu(self.fc1(x))\n",
        "    x = self.dropout1(x)\n",
        "    x = self.fc2(x)\n",
        "#   since we are using crossentropy loss, it already has softmax in it, so raw\n",
        "#   output should be final without any activation function   \n",
        "    return x\n",
        "  \n",
        "  \n",
        "    "
      ],
      "execution_count": 0,
      "outputs": []
    },
    {
      "cell_type": "code",
      "metadata": {
        "id": "Tkd38zhX8uh1",
        "colab_type": "code",
        "colab": {
          "base_uri": "https://localhost:8080/",
          "height": 136
        },
        "outputId": "63ebc5f8-872b-4603-de1c-ca0452a55db7"
      },
      "source": [
        "model = LeNet().to(device)\n",
        "model"
      ],
      "execution_count": 7,
      "outputs": [
        {
          "output_type": "execute_result",
          "data": {
            "text/plain": [
              "LeNet(\n",
              "  (conv1): Conv2d(1, 20, kernel_size=(5, 5), stride=(1, 1))\n",
              "  (conv2): Conv2d(20, 50, kernel_size=(5, 5), stride=(1, 1))\n",
              "  (fc1): Linear(in_features=800, out_features=500, bias=True)\n",
              "  (dropout1): Dropout(p=0.5)\n",
              "  (fc2): Linear(in_features=500, out_features=10, bias=True)\n",
              ")"
            ]
          },
          "metadata": {
            "tags": []
          },
          "execution_count": 7
        }
      ]
    },
    {
      "cell_type": "code",
      "metadata": {
        "id": "r-b_k2xf9X9S",
        "colab_type": "code",
        "colab": {}
      },
      "source": [
        "criterion = nn.CrossEntropyLoss()\n",
        "optimizer = torch.optim.Adam(model.parameters(), lr=0.01)"
      ],
      "execution_count": 0,
      "outputs": []
    },
    {
      "cell_type": "code",
      "metadata": {
        "id": "M6VJcaix-q5_",
        "colab_type": "code",
        "colab": {
          "base_uri": "https://localhost:8080/",
          "height": 272
        },
        "outputId": "2c9ca13d-a5ac-4735-816b-b9f081973bc9"
      },
      "source": [
        "epochs = 15\n",
        "history=[]\n",
        "val_history=[]\n",
        "for e in range(epochs):\n",
        "  current_loss = 0.0\n",
        "  running_correct = 0.0\n",
        "  validation_loss = 0.0\n",
        "  validation_acc = 0.0\n",
        "  for inputs, labels in training_loader:\n",
        "    inputs = inputs.to(device)\n",
        "    labels = labels.to(device)\n",
        "    \n",
        "#     inputs = inputs.view(inputs.shape[0], -1)   this is required is passing 1 dimensional input\n",
        "    outputs = model(inputs)\n",
        "    loss = criterion(outputs, labels)\n",
        "    \n",
        "    optimizer.zero_grad()\n",
        "    loss.backward()\n",
        "    optimizer.step()\n",
        "    \n",
        "    _, preds = torch.max(outputs, 1)\n",
        "    \n",
        "    current_loss += loss.item()\n",
        "    running_correct += torch.sum(preds == labels.data)\n",
        "\n",
        "  else:\n",
        "    with torch.no_grad():\n",
        "      for val_inputs, val_labels in validation_loader:\n",
        "        val_inputs = val_inputs.to(device)\n",
        "        val_labels = val_labels.to(device)\n",
        "        \n",
        "#         val_inputs = val_inputs.view(val_inputs.shape[0], -1)\n",
        "        val_output = model(val_inputs)\n",
        "        val_loss = criterion(val_output, val_labels)\n",
        "        \n",
        "        _, val_preds = torch.max(val_output, 1)\n",
        "        validation_loss += val_loss.item()\n",
        "        validation_acc += torch.sum(val_preds == val_labels.data)\n",
        "           \n",
        "      epoch_loss = current_loss/(len(training_loader))\n",
        "      epoch_acc = running_correct.float()/len(training_loader)\n",
        "      validation_loss = validation_loss/(len(validation_loader))\n",
        "      validation_acc = validation_acc.float()/len(validation_loader)\n",
        "      history.append(epoch_loss)\n",
        "      print('training loss: {:.4f}, training accuracy: {:.4f}, validation loss: {:.4f}, validation accuracy: {:.4f}'.format(epoch_loss, epoch_acc.item(), validation_loss, validation_acc.item()))\n",
        "    \n",
        "    "
      ],
      "execution_count": 9,
      "outputs": [
        {
          "output_type": "stream",
          "text": [
            "training loss: 0.3472, training accuracy: 88.8133, validation loss: 0.1327, validation accuracy: 96.3200\n",
            "training loss: 0.1373, training accuracy: 96.2167, validation loss: 0.1182, validation accuracy: 96.6600\n",
            "training loss: 0.1339, training accuracy: 96.4383, validation loss: 0.1546, validation accuracy: 95.9900\n",
            "training loss: 0.1369, training accuracy: 96.4383, validation loss: 0.1314, validation accuracy: 96.8200\n",
            "training loss: 0.1366, training accuracy: 96.5917, validation loss: 0.1562, validation accuracy: 96.3700\n",
            "training loss: 0.1336, training accuracy: 96.6083, validation loss: 0.1576, validation accuracy: 96.2100\n",
            "training loss: 0.1281, training accuracy: 96.8033, validation loss: 0.1273, validation accuracy: 96.9200\n",
            "training loss: 0.1415, training accuracy: 96.5400, validation loss: 0.1517, validation accuracy: 96.5500\n",
            "training loss: 0.1347, training accuracy: 96.6933, validation loss: 0.1411, validation accuracy: 96.5800\n",
            "training loss: 0.1229, training accuracy: 96.9733, validation loss: 0.1313, validation accuracy: 96.9500\n",
            "training loss: 0.1390, training accuracy: 96.6617, validation loss: 0.1554, validation accuracy: 96.7400\n",
            "training loss: 0.1349, training accuracy: 96.7350, validation loss: 0.1583, validation accuracy: 97.1000\n",
            "training loss: 0.1505, training accuracy: 96.5850, validation loss: 0.1598, validation accuracy: 96.6000\n",
            "training loss: 0.1307, training accuracy: 96.8783, validation loss: 0.1423, validation accuracy: 97.1500\n",
            "training loss: 0.1309, training accuracy: 96.9500, validation loss: 0.1593, validation accuracy: 96.2700\n"
          ],
          "name": "stdout"
        }
      ]
    },
    {
      "cell_type": "code",
      "metadata": {
        "id": "KVLeJ9ThE8iI",
        "colab_type": "code",
        "colab": {
          "base_uri": "https://localhost:8080/",
          "height": 286
        },
        "outputId": "a36dc69c-3859-4fc3-f541-8b4d54254874"
      },
      "source": [
        "plt.plot(history, label=\"training loss\")\n",
        "plt.plot(val_history, label=\"validation loss\")\n",
        "plt.legend()"
      ],
      "execution_count": 10,
      "outputs": [
        {
          "output_type": "execute_result",
          "data": {
            "text/plain": [
              "[<matplotlib.lines.Line2D at 0x7fef1d4af550>]"
            ]
          },
          "metadata": {
            "tags": []
          },
          "execution_count": 10
        },
        {
          "output_type": "display_data",
          "data": {
            "image/png": "[encoded data removed]",
            "text/plain": [
              "<Figure size 432x288 with 1 Axes>"
            ]
          },
          "metadata": {
            "tags": []
          }
        }
      ]
    },
    {
      "cell_type": "code",
      "metadata": {
        "id": "4QG1hK17OuJk",
        "colab_type": "code",
        "colab": {}
      },
      "source": [
        "# we need a smaller LR for smoother curve. \n",
        "# Look into validation in the video"
      ],
      "execution_count": 0,
      "outputs": []
    },
    {
      "cell_type": "code",
      "metadata": {
        "id": "BtgOjdEkTir6",
        "colab_type": "code",
        "colab": {}
      },
      "source": [
        ""
      ],
      "execution_count": 0,
      "outputs": []
    }
  ]
}