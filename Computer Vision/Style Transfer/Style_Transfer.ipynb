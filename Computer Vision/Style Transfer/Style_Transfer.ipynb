{
  "nbformat": 4,
  "nbformat_minor": 0,
  "metadata": {
    "colab": {
      "name": "Style_Transfer.ipynb",
      "version": "0.3.2",
      "provenance": []
    },
    "kernelspec": {
      "name": "python3",
      "display_name": "Python 3"
    }
  },
  "cells": [
    {
      "cell_type": "code",
      "metadata": {
        "id": "LLBgX3dV4Hht",
        "colab_type": "code",
        "colab": {
          "base_uri": "https://localhost:8080/",
          "height": 173
        },
        "outputId": "e740e3f5-7920-4972-f5cd-22b4f4c7f206"
      },
      "source": [
        "!pip install torch torchvision\n",
        "!pip install pillow==4.3.0"
      ],
      "execution_count": 1,
      "outputs": [
        {
          "output_type": "stream",
          "text": [
            "Requirement already satisfied: torch in /usr/local/lib/python3.6/dist-packages (1.1.0)\n",
            "Requirement already satisfied: torchvision in /usr/local/lib/python3.6/dist-packages (0.3.0)\n",
            "Requirement already satisfied: numpy in /usr/local/lib/python3.6/dist-packages (from torch) (1.16.4)\n",
            "Requirement already satisfied: six in /usr/local/lib/python3.6/dist-packages (from torchvision) (1.12.0)\n",
            "Requirement already satisfied: pillow>=4.1.1 in /usr/local/lib/python3.6/dist-packages (from torchvision) (4.3.0)\n",
            "Requirement already satisfied: olefile in /usr/local/lib/python3.6/dist-packages (from pillow>=4.1.1->torchvision) (0.46)\n",
            "Requirement already satisfied: pillow==4.3.0 in /usr/local/lib/python3.6/dist-packages (4.3.0)\n",
            "Requirement already satisfied: olefile in /usr/local/lib/python3.6/dist-packages (from pillow==4.3.0) (0.46)\n"
          ],
          "name": "stdout"
        }
      ]
    },
    {
      "cell_type": "code",
      "metadata": {
        "id": "HfrwDQFc45wv",
        "colab_type": "code",
        "colab": {}
      },
      "source": [
        "%matplotlib inline\n",
        "import torch\n",
        "import torch.optim as optim\n",
        "from torchvision import transforms, models\n",
        "from PIL import Image\n",
        "import matplotlib.pyplot as plt\n",
        "import numpy as np"
      ],
      "execution_count": 0,
      "outputs": []
    },
    {
      "cell_type": "code",
      "metadata": {
        "id": "mmpcP7fD5dKR",
        "colab_type": "code",
        "colab": {
          "base_uri": "https://localhost:8080/",
          "height": 71
        },
        "outputId": "8853b8e2-12a0-425e-ab9d-d839be2c420c"
      },
      "source": [
        "vgg = models.vgg19(pretrained=True).features\n",
        "for param in vgg.parameters():\n",
        "  param.requires_grad_(False)"
      ],
      "execution_count": 0,
      "outputs": [
        {
          "output_type": "stream",
          "text": [
            "Downloading: \"https://download.pytorch.org/models/vgg19-dcbb9e9d.pth\" to /root/.cache/torch/checkpoints/vgg19-dcbb9e9d.pth\n",
            " 81%|████████▏ | 467763200/574673361 [00:04<00:01, 99900582.75it/s]"
          ],
          "name": "stderr"
        }
      ]
    },
    {
      "cell_type": "code",
      "metadata": {
        "id": "3GmIqKMi6ZKB",
        "colab_type": "code",
        "colab": {}
      },
      "source": [
        "device = torch.device(\"cuda:0\" if torch.cuda.is_available() else \"cpu\")\n",
        "vgg.to(device)"
      ],
      "execution_count": 0,
      "outputs": []
    },
    {
      "cell_type": "code",
      "metadata": {
        "id": "hwSVLQzL6dbm",
        "colab_type": "code",
        "colab": {}
      },
      "source": [
        "def load_image(img_path, max_size=400, shape=None):\n",
        "  image = Image.open(img_path).convert('RGB')\n",
        "  if max(image.size) > max_size:\n",
        "    size = max_size\n",
        "  else:\n",
        "    size = max(image.size)\n",
        "   \n",
        "  if shape is not None:\n",
        "    size = shape\n",
        "    \n",
        "  in_transform = transforms.Compose([\n",
        "      transforms.Resize(size),\n",
        "      transforms.ToTensor(),\n",
        "      transforms.Normalize((0.5, 0.5, 0.5), (0.5, 0.5, 0.5))\n",
        "  ])\n",
        "  \n",
        "  image = in_transform(image).unsqueeze(0)\n",
        "  \n",
        "  return image"
      ],
      "execution_count": 0,
      "outputs": []
    },
    {
      "cell_type": "code",
      "metadata": {
        "id": "Swg1svbVAtpK",
        "colab_type": "code",
        "colab": {}
      },
      "source": [
        "content = load_image('City.jpg').to(device)\n",
        "style = load_image('StarryNight.jpg', shape=content.shape[-2:]).to(device)"
      ],
      "execution_count": 0,
      "outputs": []
    },
    {
      "cell_type": "code",
      "metadata": {
        "id": "NXW6gZQTBnAJ",
        "colab_type": "code",
        "colab": {}
      },
      "source": [
        "def im_convert(tensor):\n",
        "  image = tensor.cpu().clone().detach().numpy()\n",
        "  image = image.squeeze()\n",
        "  image = image.transpose(1, 2, 0)\n",
        "#   unnormalise\n",
        "  image = image * np.array((0.5, 0.5, 0.5)) + np.array((0.5, 0.5, 0.5))\n",
        "  image = image.clip(0, 1)\n",
        "  return image"
      ],
      "execution_count": 0,
      "outputs": []
    },
    {
      "cell_type": "code",
      "metadata": {
        "id": "GoJ6NdR2CFkX",
        "colab_type": "code",
        "colab": {}
      },
      "source": [
        "fig, (ax1, ax2) = plt.subplots(1, 2, figsize=(20, 10))\n",
        "ax1.imshow(im_convert(content))\n",
        "ax1.axis('off')\n",
        "ax2.imshow(im_convert(style))\n",
        "ax2.axis('off')"
      ],
      "execution_count": 0,
      "outputs": []
    },
    {
      "cell_type": "code",
      "metadata": {
        "id": "VwJDI2N6C0NQ",
        "colab_type": "code",
        "colab": {}
      },
      "source": [
        "def get_features(image, model):\n",
        "  layers = {'0':'conv1_1', \n",
        "            '5': 'conv2_1',\n",
        "            '10':'conv3_1', \n",
        "            '19':'conv4_1',\n",
        "            '21': 'conv4_2', #content extraction\n",
        "            '28': 'conv5_1',\n",
        "           }\n",
        "  \n",
        "  features = {}\n",
        "  \n",
        "  for name, layer in model._modules.items():\n",
        "    image = layer(image)\n",
        "    if name in layers:\n",
        "      features[layers[name]] = image\n",
        "      \n",
        "  return features"
      ],
      "execution_count": 0,
      "outputs": []
    },
    {
      "cell_type": "code",
      "metadata": {
        "id": "JIhONRmfKS5U",
        "colab_type": "code",
        "colab": {}
      },
      "source": [
        "content_features = get_features(content, vgg)\n",
        "style_features = get_features(style, vgg)"
      ],
      "execution_count": 0,
      "outputs": []
    },
    {
      "cell_type": "code",
      "metadata": {
        "id": "StbzW86AKbWX",
        "colab_type": "code",
        "colab": {}
      },
      "source": [
        "def gram_matrix(tensor):\n",
        "  batch_size, d, h, w = tensor.size()\n",
        "  tensor = tensor.view(d, h*w)\n",
        "  gram = torch.mm(tensor, tensor.t()) # mm multiplies 2 tensors\n",
        "  return gram"
      ],
      "execution_count": 0,
      "outputs": []
    },
    {
      "cell_type": "code",
      "metadata": {
        "id": "40Td0DT6L0Xh",
        "colab_type": "code",
        "colab": {}
      },
      "source": [
        "style_gram = {layer: gram_matrix(style_features[layer]) for layer in style_features}"
      ],
      "execution_count": 0,
      "outputs": []
    },
    {
      "cell_type": "code",
      "metadata": {
        "id": "nx1Kl0n_fjpU",
        "colab_type": "code",
        "colab": {}
      },
      "source": [
        "style_weights = {\n",
        "                  'conv1_1' : 1.0,\n",
        "                  'conv2_1' : 0.75,\n",
        "                  'conv3_1' : 0.2,\n",
        "                  'conv4_1' : 0.2,\n",
        "                  'conv5_1' : 0.2,\n",
        "                }\n",
        "\n",
        "content_weight = 1\n",
        "style_weight = 1e6"
      ],
      "execution_count": 0,
      "outputs": []
    },
    {
      "cell_type": "code",
      "metadata": {
        "id": "FkTU0Qedggg0",
        "colab_type": "code",
        "colab": {}
      },
      "source": [
        "target = content.clone().requires_grad_(True).to(device)\n"
      ],
      "execution_count": 0,
      "outputs": []
    },
    {
      "cell_type": "code",
      "metadata": {
        "id": "l3tBjBS2gykX",
        "colab_type": "code",
        "colab": {}
      },
      "source": [
        "show_every = 300\n",
        "optimizer = optim.Adam([target], lr = 0.003)\n",
        "steps = 2100\n",
        "\n",
        "H, W, C = im_convert(target).shape \n",
        "image_array = np.empty(shape=(show_every, H, W, C)) \n",
        "counter = 0"
      ],
      "execution_count": 0,
      "outputs": []
    },
    {
      "cell_type": "code",
      "metadata": {
        "id": "SYBc5D5Bh9Rv",
        "colab_type": "code",
        "colab": {}
      },
      "source": [
        "for ii in range(1, steps+1):\n",
        "  target_features = get_features(target, vgg)\n",
        "  content_loss = torch.mean((target_features['conv4_1'] - content_features['conv4_1'])**2)\n",
        "  style_loss = 0\n",
        "  for layer in style_weights:\n",
        "    target_feature = target_features[layer]\n",
        "    target_gram = gram_matrix(target_feature)\n",
        "    style_gram_layer = style_gram[layer]\n",
        "    layer_style_loss = style_weights[layer] * torch.mean((target_gram - style_gram_layer)**2)\n",
        "    _, d, h, w = target_feature.shape\n",
        "    style_loss += layer_style_loss/ (d * h * w)\n",
        "    \n",
        "  loss = content_loss*content_weight + style_loss*style_weight\n",
        "  \n",
        "  optimizer.zero_grad()\n",
        "  loss.backward()\n",
        "  optimizer.step()\n",
        "  \n",
        "  print('Total loss: ', loss.item())\n",
        "  \n",
        "  if ii % show_every == 0:\n",
        "    plt.imshow(im_convert(target))\n",
        "    plt.axis('off')\n",
        "    plt.show()\n",
        "    \n",
        "  "
      ],
      "execution_count": 0,
      "outputs": []
    },
    {
      "cell_type": "code",
      "metadata": {
        "id": "akM0DuLWmASt",
        "colab_type": "code",
        "colab": {}
      },
      "source": [
        ""
      ],
      "execution_count": 0,
      "outputs": []
    }
  ]
}