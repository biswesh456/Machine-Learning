{
  "nbformat": 4,
  "nbformat_minor": 0,
  "metadata": {
    "colab": {
      "name": "Lenet_Implementation_CIFAR10.ipynb",
      "version": "0.3.2",
      "provenance": [],
      "collapsed_sections": []
    },
    "kernelspec": {
      "name": "python3",
      "display_name": "Python 3"
    },
    "accelerator": "GPU"
  },
  "cells": [
    {
      "cell_type": "code",
      "metadata": {
        "id": "CODhFjsIp0t6",
        "colab_type": "code",
        "outputId": "2582dc90-4a5c-4b2a-a9c5-f640364d50e5",
        "colab": {
          "base_uri": "https://localhost:8080/",
          "height": 51
        }
      },
      "source": [
        "!pip3 install torch\n"
      ],
      "execution_count": 1,
      "outputs": [
        {
          "output_type": "stream",
          "text": [
            "Requirement already satisfied: torch in /usr/local/lib/python3.6/dist-packages (1.1.0)\n",
            "Requirement already satisfied: numpy in /usr/local/lib/python3.6/dist-packages (from torch) (1.16.4)\n"
          ],
          "name": "stdout"
        }
      ]
    },
    {
      "cell_type": "code",
      "metadata": {
        "id": "cQ8Gt-Htp8mW",
        "colab_type": "code",
        "colab": {}
      },
      "source": [
        "import torch\n",
        "import numpy as np\n",
        "import torch.nn as nn\n",
        "import torch.nn.functional as F\n",
        "from torchvision import datasets, transforms\n",
        "import matplotlib.pyplot as plt"
      ],
      "execution_count": 0,
      "outputs": []
    },
    {
      "cell_type": "code",
      "metadata": {
        "id": "YhJ7C_2wHDa_",
        "colab_type": "code",
        "colab": {}
      },
      "source": [
        "device = torch.device(\"cuda:0\" if torch.cuda.is_available() else \"cpu\")"
      ],
      "execution_count": 0,
      "outputs": []
    },
    {
      "cell_type": "code",
      "metadata": {
        "id": "1CD7t2s3YsSV",
        "colab_type": "code",
        "outputId": "8ed1ae38-6890-49ad-8498-74951d235d55",
        "colab": {
          "base_uri": "https://localhost:8080/",
          "height": 34
        }
      },
      "source": [
        "torch.manual_seed(1)"
      ],
      "execution_count": 4,
      "outputs": [
        {
          "output_type": "execute_result",
          "data": {
            "text/plain": [
              "<torch._C.Generator at 0x7f47bbb92670>"
            ]
          },
          "metadata": {
            "tags": []
          },
          "execution_count": 4
        }
      ]
    },
    {
      "cell_type": "code",
      "metadata": {
        "id": "yF8_6aOZ5JCI",
        "colab_type": "code",
        "colab": {
          "base_uri": "https://localhost:8080/",
          "height": 51
        },
        "outputId": "44f25b46-48fa-4438-bf17-cfa1b2176cfa"
      },
      "source": [
        "transform_train = transforms.Compose([transforms.Resize(32, 32),\n",
        "                                      transforms.RandomHorizontalFlip(),\n",
        "                                      transforms.RandomAffine(0, shear=10, scale=(0.8, 1.2)),\n",
        "                                      transforms.ColorJitter(brightness=0.2, contrast=0.2, saturation=0.2),\n",
        "                                      transforms.RandomRotation(10),\n",
        "                                      transforms.ToTensor(),\n",
        "                                      transforms.Normalize([0.5], [0.5])\n",
        "                                     ])\n",
        "\n",
        "transform_validation = transforms.Compose([transforms.Resize(32, 32),\n",
        "                                           transforms.ToTensor(),\n",
        "                                           transforms.Normalize([0.5], [0.5])\n",
        "                                          ])\n",
        "\n",
        "training_dataset = datasets.CIFAR10(root='./data', train=True, download=True, transform=transform_train)\n",
        "training_loader = torch.utils.data.DataLoader(dataset=training_dataset, batch_size=100, shuffle=True) \n",
        "validation_dataset = datasets.CIFAR10(root='./data', train=False, download=True, transform=transform_validation)\n",
        "validation_loader = torch.utils.data.DataLoader(dataset=validation_dataset, batch_size=100, shuffle=False) "
      ],
      "execution_count": 12,
      "outputs": [
        {
          "output_type": "stream",
          "text": [
            "Files already downloaded and verified\n",
            "Files already downloaded and verified\n"
          ],
          "name": "stdout"
        }
      ]
    },
    {
      "cell_type": "code",
      "metadata": {
        "id": "8v2JUQX4Zm_B",
        "colab_type": "code",
        "colab": {}
      },
      "source": [
        "class LeNet(nn.Module):\n",
        "  def __init__(self):\n",
        "    super().__init__()\n",
        "    self.conv1 = nn.Conv2d(3, 16, 3, stride=1, padding=1)\n",
        "    self.conv2 = nn.Conv2d(16, 32, 3, stride=1, padding=1)\n",
        "    self.conv3 = nn.Conv2d(32, 64, 3, stride=1, padding=1)\n",
        "    self.fc1 = nn.Linear(4*4*64, 500)\n",
        "    self.dropout1 = nn.Dropout(0.5)\n",
        "    self.fc2 = nn.Linear(500, 10)\n",
        "    \n",
        "  def forward(self, x):\n",
        "    x = F.relu(self.conv1(x))\n",
        "    x = F.max_pool2d(x, 2, 2)\n",
        "    x = F.relu(self.conv2(x))\n",
        "    x = F.max_pool2d(x, 2, 2)\n",
        "    x = F.relu(self.conv3(x))\n",
        "    x = F.max_pool2d(x, 2, 2)\n",
        "    x = x.view(-1, 4*4*64)\n",
        "    x = F.relu(self.fc1(x))\n",
        "    x = self.dropout1(x)\n",
        "    x = self.fc2(x)\n",
        "#   since we are using crossentropy loss, it already has softmax in it, so raw\n",
        "#   output should be final without any activation function   \n",
        "    return x\n",
        "  \n",
        "  \n",
        "    "
      ],
      "execution_count": 0,
      "outputs": []
    },
    {
      "cell_type": "code",
      "metadata": {
        "id": "yLZsgG63WSnS",
        "colab_type": "code",
        "colab": {}
      },
      "source": [
        "classes = ('plane', 'car', 'bird', 'cat', 'deer', 'dog', 'frog', 'horse', 'ship', 'truck')"
      ],
      "execution_count": 0,
      "outputs": []
    },
    {
      "cell_type": "code",
      "metadata": {
        "id": "Tkd38zhX8uh1",
        "colab_type": "code",
        "colab": {
          "base_uri": "https://localhost:8080/",
          "height": 153
        },
        "outputId": "39e3bd46-e64a-4166-c887-b91a40c68517"
      },
      "source": [
        "model = LeNet().to(device)\n",
        "model"
      ],
      "execution_count": 9,
      "outputs": [
        {
          "output_type": "execute_result",
          "data": {
            "text/plain": [
              "LeNet(\n",
              "  (conv1): Conv2d(3, 16, kernel_size=(3, 3), stride=(1, 1), padding=(1, 1))\n",
              "  (conv2): Conv2d(16, 32, kernel_size=(3, 3), stride=(1, 1), padding=(1, 1))\n",
              "  (conv3): Conv2d(32, 64, kernel_size=(3, 3), stride=(1, 1), padding=(1, 1))\n",
              "  (fc1): Linear(in_features=1024, out_features=500, bias=True)\n",
              "  (dropout1): Dropout(p=0.5)\n",
              "  (fc2): Linear(in_features=500, out_features=10, bias=True)\n",
              ")"
            ]
          },
          "metadata": {
            "tags": []
          },
          "execution_count": 9
        }
      ]
    },
    {
      "cell_type": "code",
      "metadata": {
        "id": "r-b_k2xf9X9S",
        "colab_type": "code",
        "colab": {}
      },
      "source": [
        "criterion = nn.CrossEntropyLoss()\n",
        "optimizer = torch.optim.Adam(model.parameters(), lr=0.001)"
      ],
      "execution_count": 0,
      "outputs": []
    },
    {
      "cell_type": "code",
      "metadata": {
        "id": "M6VJcaix-q5_",
        "colab_type": "code",
        "colab": {
          "base_uri": "https://localhost:8080/",
          "height": 34
        },
        "outputId": "64d50c1c-5139-4230-8013-951da855e5e1"
      },
      "source": [
        "epochs = 15\n",
        "history=[]\n",
        "val_history=[]\n",
        "for e in range(epochs):\n",
        "  current_loss = 0.0\n",
        "  running_correct = 0.0\n",
        "  validation_loss = 0.0\n",
        "  validation_acc = 0.0\n",
        "  for inputs, labels in training_loader:\n",
        "    inputs = inputs.to(device)\n",
        "    labels = labels.to(device)\n",
        "    \n",
        "#     inputs = inputs.view(inputs.shape[0], -1)   this is required is passing 1 dimensional input\n",
        "    outputs = model(inputs)\n",
        "    loss = criterion(outputs, labels)\n",
        "    \n",
        "    optimizer.zero_grad()\n",
        "    loss.backward()\n",
        "    optimizer.step()\n",
        "    \n",
        "    _, preds = torch.max(outputs, 1)\n",
        "    \n",
        "    current_loss += loss.item()\n",
        "    running_correct += torch.sum(preds == labels.data)\n",
        "\n",
        "  else:\n",
        "    with torch.no_grad():\n",
        "      for val_inputs, val_labels in validation_loader:\n",
        "        val_inputs = val_inputs.to(device)\n",
        "        val_labels = val_labels.to(device)\n",
        "        \n",
        "#         val_inputs = val_inputs.view(val_inputs.shape[0], -1)\n",
        "        val_output = model(val_inputs)\n",
        "        val_loss = criterion(val_output, val_labels)\n",
        "        \n",
        "        _, val_preds = torch.max(val_output, 1)\n",
        "        validation_loss += val_loss.item()\n",
        "        validation_acc += torch.sum(val_preds == val_labels.data)\n",
        "           \n",
        "      epoch_loss = current_loss/(len(training_loader))\n",
        "      epoch_acc = running_correct.float()/len(training_loader)\n",
        "      validation_loss = validation_loss/(len(validation_loader))\n",
        "      validation_acc = validation_acc.float()/len(validation_loader)\n",
        "      history.append(epoch_loss)\n",
        "      val_history.append(validation_loss)\n",
        "      print('training loss: {:.4f}, training accuracy: {:.4f}, validation loss: {:.4f}, validation accuracy: {:.4f}'.format(epoch_loss, epoch_acc.item(), validation_loss, validation_acc.item()))\n",
        "    \n",
        "    "
      ],
      "execution_count": 0,
      "outputs": [
        {
          "output_type": "stream",
          "text": [
            "training loss: 1.6795, training accuracy: 38.5720, validation loss: 1.3760, validation accuracy: 50.1300\n"
          ],
          "name": "stdout"
        }
      ]
    },
    {
      "cell_type": "code",
      "metadata": {
        "id": "KVLeJ9ThE8iI",
        "colab_type": "code",
        "colab": {}
      },
      "source": [
        "plt.plot(history, label=\"training loss\")\n",
        "plt.plot(val_history, label=\"validation loss\")\n",
        "plt.legend()"
      ],
      "execution_count": 0,
      "outputs": []
    },
    {
      "cell_type": "code",
      "metadata": {
        "id": "4QG1hK17OuJk",
        "colab_type": "code",
        "colab": {}
      },
      "source": [
        "# we need a smaller LR for smoother curve. \n",
        "# Overfitting -> can decrease the kernel size"
      ],
      "execution_count": 0,
      "outputs": []
    },
    {
      "cell_type": "code",
      "metadata": {
        "id": "QRRYCS6VeQTh",
        "colab_type": "code",
        "colab": {}
      },
      "source": [
        ""
      ],
      "execution_count": 0,
      "outputs": []
    }
  ]
}